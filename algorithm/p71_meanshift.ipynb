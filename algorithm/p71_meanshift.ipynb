{
 "cells": [
  {
   "cell_type": "markdown",
   "metadata": {},
   "source": [
    "# 导入包"
   ]
  },
  {
   "cell_type": "code",
   "execution_count": 1,
   "metadata": {},
   "outputs": [],
   "source": [
    "import numpy as np\n",
    "from sklearn.datasets import make_blobs\n",
    "import matplotlib.pyplot as plt"
   ]
  },
  {
   "cell_type": "markdown",
   "metadata": {},
   "source": [
    "# 定义函数"
   ]
  },
  {
   "cell_type": "code",
   "execution_count": 2,
   "metadata": {},
   "outputs": [],
   "source": [
    "def show2dfig(X, labels=None):\n",
    "    if X.shape[1] != 2: print('dimension error!'); return\n",
    "    plt.figure()\n",
    "    plt.scatter(X[:, 0], X[:, 1], c=labels)\n",
    "    plt.show()"
   ]
  },
  {
   "cell_type": "markdown",
   "metadata": {},
   "source": [
    "# 定义类"
   ]
  },
  {
   "cell_type": "code",
   "execution_count": 3,
   "metadata": {},
   "outputs": [],
   "source": [
    "class SlidingWindow():\n",
    "    \"\"\"\n",
    "    Attributes:\n",
    "        centroid: {ndarray(n_features,)}\n",
    "        epsilon: {float} 滑动窗格大小，为半径的平方\n",
    "        sigma: {float} 高斯核函数的参数\n",
    "        label: {int} 该窗格的标记\n",
    "        X: {ndarray(n_samples, n_features)}\n",
    "        containIdx: {ndarray(n_contain,)} 窗格内包含点的索引\n",
    "    \"\"\"\n",
    "    def __init__(self, centroid, epsilon, sigma, label, X):\n",
    "        self.centroid = centroid\n",
    "        self.epsilon = epsilon\n",
    "        self.sigma = sigma\n",
    "        self.label = label\n",
    "        self.containIdx = self.updateContain(X)\n",
    "    def k(self, z):\n",
    "        \"\"\" 高斯核函数\n",
    "        Args:\n",
    "            z: {ndarray(n_features,)}\n",
    "        Notes:\n",
    "            - \\kappa(z) = \\frac{1}{\\sqrt{2\\pi}} \\exp \\left( - \\frac{||z||^2}{2\\sigma^2} \\right)\n",
    "        \"\"\"\n",
    "        norm = np.linalg.norm(z)\n",
    "        return np.exp(- 0.5 * (norm / self.sigma)**2) / np.sqrt(2*np.pi)\n",
    "    def step(self, X):\n",
    "        \"\"\" 更新滑动窗格的中心点和所包含点\n",
    "        Returns: {float}\n",
    "        \"\"\"\n",
    "        dshift = self.shift(X)\n",
    "        self.containIdx = self.updateContain(X)\n",
    "        return dshift\n",
    "    def shift(self, X):\n",
    "        \"\"\" 移动窗格\n",
    "        Args:\n",
    "            vecShift: {ndarray(n_features,)}\n",
    "        Returns:\n",
    "            dshift: {float} 移动的距离\n",
    "        \"\"\"\n",
    "        (n_samples, n_features) = X.shape\n",
    "        n_contain = self.containIdx.shape[0]\n",
    "        contain_weighted_sum = np.zeros(shape=(n_features, ))\n",
    "        weight_sum = 0\n",
    "        # 按包含的点进行移动\n",
    "        for i_contain in range(n_contain):\n",
    "            vector = X[self.containIdx[i_contain]] - self.centroid\n",
    "            weight = self.k(vector)\n",
    "            contain_weighted_sum += weight*X[self.containIdx[i_contain]]\n",
    "            weight_sum += weight\n",
    "        centroid = contain_weighted_sum / weight_sum\t \n",
    "        # 计算移动的距离   \n",
    "        dshift = np.linalg.norm(self.centroid - centroid)\n",
    "        self.centroid = centroid\n",
    "        return dshift\n",
    "    def updateContain(self, X):\n",
    "        \"\"\" 更新窗格内的点索引\n",
    "        Args:\n",
    "            X: {ndarray(n_samples, n_features)}\n",
    "        Notes:\n",
    "            - 用欧式距离作为度量\n",
    "        \"\"\"\n",
    "        d = lambda x_i, x_j: np.linalg.norm(x_i - x_j)\n",
    "        n_samples = X.shape[0]\n",
    "        containIdx = np.array([], dtype='int')\n",
    "        for i_samples in range(n_samples):\n",
    "            if d(X[i_samples], self.centroid) < self.epsilon:\n",
    "                containIdx = np.r_[containIdx, i_samples]\n",
    "        return containIdx"
   ]
  },
  {
   "cell_type": "markdown",
   "metadata": {},
   "source": [
    "# 定义类"
   ]
  },
  {
   "cell_type": "code",
   "execution_count": 4,
   "metadata": {},
   "outputs": [],
   "source": [
    "class MeanShift():\n",
    "    \"\"\"\n",
    "    Attributes:\n",
    "        n_clusters: {int} 划分簇的个数\n",
    "        n_windows: {int} 滑动窗格的个数\n",
    "        epsilon: {float} 滑动窗格的大小\n",
    "        sigma: {float} {float} 高斯核参数\n",
    "        thresh: {float} 若两个窗格中心距离小于thresh，则合并两类簇\n",
    "        min_move: {float} 终止条件\n",
    "        windows: {list[class SlidingWindow()]}\n",
    "    Note:\n",
    "        - 假设所有点均被窗格划过\n",
    "    \"\"\"\n",
    "    \n",
    "    def __init__(self, n_clusters, n_windows=-1, epsilon=0.5, sigma=2, thresh=1e-2, min_move=1e-3):\n",
    "        self.n_clusters = n_clusters\n",
    "        self.n_windows = 5*n_clusters if (n_windows == -1) else n_windows\n",
    "        self.epsilon = epsilon\n",
    "        self.sigma = sigma\n",
    "        self.thresh = thresh\n",
    "        self.min_move = min_move\n",
    "        self.windows = []\n",
    "        self.centroids = None\n",
    "    def fit(self, X):\n",
    "        (n_samples, n_features) = X.shape\n",
    "        # 创建窗格\n",
    "        for i_windows in range(self.n_windows):\n",
    "            idx = np.random.randint(n_samples)\n",
    "            window = SlidingWindow(X[idx], self.epsilon,\n",
    "                            self.sigma, i_windows, X)\n",
    "            # 将各窗格包含的点标记\n",
    "            n_contain = window.containIdx.shape[0]\n",
    "            self.windows.append(window)\n",
    "\n",
    "        dshift = float('inf')   # 初始化为无穷大\n",
    "        plt.figure(); plt.ion()\n",
    "        while dshift > self.min_move:\n",
    "            # ------ 做图显示 ------\n",
    "            plt.cla()\n",
    "            plt.scatter(X[:, 0], X[:, 1], c='b')\n",
    "            for i_windows in range(self.n_windows):\n",
    "                centroid = self.windows[i_windows].centroid\n",
    "                plt.scatter(centroid[0], centroid[1], c='r')\n",
    "            plt.pause(0.5)\n",
    "            # ---------------------\n",
    "            dshift = self.step(X)\n",
    "        plt.ioff()\n",
    "        \n",
    "        # 合并窗格\n",
    "        dists = np.zeros(shape=(self.n_windows, self.n_windows))\n",
    "        for i_windows in range(self.n_windows):\n",
    "            for j_windows in range(i_windows):\n",
    "                centroid_i = self.windows[i_windows].centroid\n",
    "                centroid_j = self.windows[j_windows].centroid\n",
    "                dists[i_windows, j_windows] = np.linalg.norm(centroid_i-centroid_j)\n",
    "                dists[j_windows, i_windows] = dists[i_windows, j_windows]\n",
    "        \n",
    "        # 获得距离相近索引\n",
    "        index = np.where(dists<self.thresh)\n",
    "        # 用于标记类别\n",
    "        winlabel = np.zeros(shape=(self.n_windows,), dtype='int')\n",
    "        label = 1; winlabel[0] = label\n",
    "        for i_windows in range(self.n_windows):\n",
    "            idx_row = index[0][i_windows]\n",
    "            idx_col = index[1][i_windows]\n",
    "            # 若其中一个点被标记，则将令一个点并入该类\n",
    "            if winlabel[idx_row]!=0:\n",
    "                winlabel[idx_col] = winlabel[idx_row]\n",
    "            elif winlabel[idx_col]!=0:\n",
    "                winlabel[idx_row] = winlabel[idx_col]\n",
    "            # 否则新创建类别\n",
    "            else:\n",
    "                label += 1\n",
    "                winlabel[idx_row] = label\n",
    "                winlabel[idx_col] = label\n",
    "        \n",
    "        # 将标签一样的窗格合并\n",
    "        labels = list(set(winlabel))                            # 去重后的标签\n",
    "        n_labels = len(labels)                                  # 标签种类数\n",
    "        if n_labels != self.n_clusters: print('please run again!'); return\n",
    "        self.centroids = np.zeros(shape=(n_labels, n_features)) # 记录最终聚类中心\n",
    "        for i_labels in range(n_labels):\n",
    "            cnt = 0\n",
    "            for i_windows in range(self.n_windows):\n",
    "                if winlabel[i_windows] == labels[i_labels]:\n",
    "                    self.centroids[i_labels] += self.windows[i_windows].centroid\n",
    "                    cnt += 1\n",
    "            self.centroids[i_labels] /= cnt\t                    # 取同类窗格中心点的均值\n",
    "        return self.centroids\n",
    "\n",
    "    def step(self, X):\n",
    "        \"\"\" update all sliding windows\n",
    "        Returns:\n",
    "            dshift: \\sum_i^{n_windows} dshift_{i}\n",
    "        \"\"\" \n",
    "        dshift = 0\n",
    "        for i_windows in range(self.n_windows):\n",
    "            dshift += self.windows[i_windows].step(X)\n",
    "            # label the points\n",
    "            n_contain = self.windows[i_windows].containIdx.shape[0]\n",
    "        return dshift\n",
    "    def predict(self, X):\n",
    "        \"\"\" 简单的用近邻的方法求\n",
    "        \"\"\"\n",
    "        (n_samples, n_features) = X.shape\n",
    "        dists = np.zeros(shape=(n_samples, self.n_clusters))\n",
    "        for i_samples in range(n_samples):\n",
    "            for i_clusters in range(self.n_clusters):\n",
    "                dists[i_samples, i_clusters] = np.linalg.norm(X[i_samples]-self.centroids[i_clusters])\n",
    "        return np.argmin(dists, axis=1)"
   ]
  },
  {
   "cell_type": "markdown",
   "metadata": {},
   "source": [
    "# 生成数据集并显示"
   ]
  },
  {
   "cell_type": "code",
   "execution_count": 5,
   "metadata": {},
   "outputs": [
    {
     "data": {
      "image/png": "[encoded data removed]",
      "text/plain": [
       "<Figure size 432x288 with 1 Axes>"
      ]
     },
     "metadata": {
      "needs_background": "light"
     },
     "output_type": "display_data"
    }
   ],
   "source": [
    "X, y = make_blobs(n_samples=50, centers=3, cluster_std=0.2, center_box=(-5, 5))\n",
    "show2dfig(X, y)"
   ]
  },
  {
   "cell_type": "markdown",
   "metadata": {},
   "source": [
    "# 训练"
   ]
  },
  {
   "cell_type": "markdown",
   "metadata": {},
   "source": [
    "可以看到训练过程，红点为滑动窗格的中心"
   ]
  },
  {
   "cell_type": "code",
   "execution_count": 6,
   "metadata": {},
   "outputs": [
    {
     "data": {
      "image/png": "[encoded data removed]",
      "text/plain": [
       "<Figure size 432x288 with 1 Axes>"
      ]
     },
     "metadata": {
      "needs_background": "light"
     },
     "output_type": "display_data"
    },
    {
     "data": {
      "image/png": "[encoded data removed]",
      "text/plain": [
       "<Figure size 432x288 with 1 Axes>"
      ]
     },
     "metadata": {
      "needs_background": "light"
     },
     "output_type": "display_data"
    },
    {
     "data": {
      "image/png": "[encoded data removed]",
      "text/plain": [
       "<Figure size 432x288 with 1 Axes>"
      ]
     },
     "metadata": {
      "needs_background": "light"
     },
     "output_type": "display_data"
    }
   ],
   "source": [
    "estimator = MeanShift(n_clusters=3, n_windows=20, epsilon=1.0, sigma=2, thresh=0.1, min_move=1e-3)\n",
    "centroids = estimator.fit(X)\n",
    "y_pred = estimator.predict(X)"
   ]
  },
  {
   "cell_type": "markdown",
   "metadata": {},
   "source": [
    "# 显示最终结果"
   ]
  },
  {
   "cell_type": "code",
   "execution_count": 7,
   "metadata": {},
   "outputs": [
    {
     "data": {
      "image/png": "[encoded data removed]",
      "text/plain": [
       "<Figure size 432x288 with 1 Axes>"
      ]
     },
     "metadata": {
      "needs_background": "light"
     },
     "output_type": "display_data"
    }
   ],
   "source": [
    "# 作图显示\n",
    "plt.figure('result')\n",
    "plt.scatter(X[:, 0], X[:, 1], c=y_pred)\n",
    "plt.scatter(centroids[:, 0], centroids[:, 1], c='r')\n",
    "plt.show()"
   ]
  }
 ],
 "metadata": {
  "kernelspec": {
   "display_name": "Python 3",
   "language": "python",
   "name": "python3"
  },
  "language_info": {
   "codemirror_mode": {
    "name": "ipython",
    "version": 3
   },
   "file_extension": ".py",
   "mimetype": "text/x-python",
   "name": "python",
   "nbconvert_exporter": "python",
   "pygments_lexer": "ipython3",
   "version": "3.6.6"
  }
 },
 "nbformat": 4,
 "nbformat_minor": 2
}
