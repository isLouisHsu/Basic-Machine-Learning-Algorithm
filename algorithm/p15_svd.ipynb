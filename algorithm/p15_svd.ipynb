{
 "cells": [
  {
   "cell_type": "markdown",
   "metadata": {},
   "source": [
    "# 导入包"
   ]
  },
  {
   "cell_type": "code",
   "execution_count": 1,
   "metadata": {},
   "outputs": [],
   "source": [
    "import os\n",
    "import cv2\n",
    "import numpy as np\n",
    "import matplotlib.pyplot as plt\n",
    "from mpl_toolkits.mplot3d import Axes3D\n",
    "from matplotlib import cm"
   ]
  },
  {
   "cell_type": "markdown",
   "metadata": {},
   "source": [
    "# 定义函数"
   ]
  },
  {
   "cell_type": "code",
   "execution_count": 2,
   "metadata": {},
   "outputs": [],
   "source": [
    "def showmat2d(mat):\n",
    "    \"\"\" display 3-d mat\n",
    "    \"\"\"\n",
    "    plt.figure()\n",
    "    plt.imshow(mat)\n",
    "    plt.show()\n",
    "def showmat3d(mat):\n",
    "    \"\"\" display 3-d mat\n",
    "    \"\"\"\n",
    "    (h, w) = mat.shape\n",
    "    x1 = np.arange(h); x2 = np.arange(w)\n",
    "    x1, x2 = np.meshgrid(x1, x2)\n",
    "\n",
    "    fig = plt.figure()\n",
    "    ax = fig.gca(projection='3d')\n",
    "    surf = ax.plot_surface(x1, x2, mat, rstride=1, cstride=1, cmap=cm.coolwarm,\n",
    "                            linewidth=0, antialiased=False)\n",
    "    fig.colorbar(surf, shrink=0.5, aspect=5)\n",
    "    plt.show()\n",
    "\n",
    "\n",
    "def load_images():\n",
    "    \"\"\" load 20 images\n",
    "    Returns:\n",
    "        images {ndarray(20, 1024)}\n",
    "    \"\"\"\n",
    "    dirname = './data'\n",
    "    images = np.zeros(shape=(20, 1024))\n",
    "    for i in range(20):\n",
    "        imgname = 'obj{:d}__0.png'.format(i+1)\n",
    "        imgpath = os.path.join(dirname, imgname)\n",
    "        image = cv2.imread(imgpath, cv2.IMREAD_GRAYSCALE)\n",
    "        image = cv2.resize(image, (32, 32))\n",
    "        images[i] = image.reshape(-1)  \n",
    "    return images\n",
    "def calculateEuclidean(mat):\n",
    "    \"\"\" 计算各样本间欧式距离\n",
    "    Args:\n",
    "        mat {ndarray(n_samples, n_features)}\n",
    "    Returns:\n",
    "        ret {ndarray(n_samples, n_samples)}\n",
    "    \"\"\"\n",
    "    euclidean = lambda i, j: np.linalg.norm(mat[i] - mat[j])\n",
    "    (n_samples, n_features) = mat.shape\n",
    "    ret = np.zeros(shape=(n_samples, n_samples))\n",
    "    for i in range(n_samples):\n",
    "        for j in range(i + 1):\n",
    "            ret[i, j] = euclidean(i, j)\n",
    "            ret[j, i] = ret[i, j]\n",
    "    return ret\n",
    "def calculateCosine(mat):\n",
    "    \"\"\" 计算各样本间余弦距离\n",
    "    Args:\n",
    "        mat {ndarray(n_samples, n_features)}\n",
    "    Returns:\n",
    "        ret {ndarray(n_samples, n_samples)}\n",
    "    \"\"\"\n",
    "    cosine = lambda i, j: mat[i].dot(mat[j]) \\\n",
    "                        / (np.linalg.norm(mat[i]) * np.linalg.norm(mat[j]))\n",
    "    (n_samples, n_features) = mat.shape\n",
    "    ret = np.zeros(shape=(n_samples, n_samples))\n",
    "    for i in range(n_samples):\n",
    "        for j in range(i + 1):\n",
    "            ret[i, j] = cosine(i, j)\n",
    "            ret[j, i] = ret[i, j]\n",
    "    return ret"
   ]
  },
  {
   "cell_type": "markdown",
   "metadata": {},
   "source": [
    "# 定义类"
   ]
  },
  {
   "cell_type": "code",
   "execution_count": 3,
   "metadata": {},
   "outputs": [],
   "source": [
    "class SVD():\n",
    "    \"\"\" 奇异值分解\n",
    "    Attributes:\n",
    "        m {int}: 输入矩阵的行\n",
    "        n {int}: 输入矩阵的列\n",
    "        r {int}: 部分奇异值分解参数，若指定 r = -1, 那么 r = n\n",
    "        isTrains {bool}: 若输入矩阵input.shape[0] < input.shape[1]，则isTrains = True\n",
    "        U {ndarray(m, r)}\n",
    "        S {ndarray(r, )}\n",
    "        V {ndarray(n, r)}\n",
    "    Notes:\n",
    "        - 若 m < n, 则转置输入矩阵 m, n := n, m\n",
    "        - 若特征值非零个数小于r，则重新赋值，即 r = \\min \\{ r, n_{\\lambda \\neq 0}\n",
    "        - 为减小内存使用，奇异值保存在一维向量中\n",
    "        - X' = U S V^T\n",
    "    \"\"\"\n",
    "    def __init__(self, r=-1):\n",
    "        self.m = None\n",
    "        self.n = None\n",
    "        self.r = r\n",
    "        self.isTrans = False\n",
    "        self.U = None\n",
    "        self.S = None\n",
    "        self.V = None\n",
    "    def fit(self, X):\n",
    "        \"\"\" 计算主成分\n",
    "        Notes:\n",
    "            - Transpose input matrix if m < n, and m, n := n, m\n",
    "            - reassign self.r if eigvals contains zero\n",
    "        \"\"\"\n",
    "        (self.m, self.n) = X.shape\n",
    "        if self.m < self.n:\n",
    "            X = X.T\n",
    "            self.m, self.n = self.n, self.m\n",
    "            self.isTrans = True\n",
    "        self.r = self.n if (self.r == -1) else self.r\n",
    "\n",
    "        XTX = X.T.dot(X)\n",
    "        eigval, eigvec = np.linalg.eig(X.T.dot(X))\n",
    "        eigval, eigvec = np.real(eigval), np.real(eigvec)\n",
    "        \n",
    "        self.S = np.sqrt(np.clip(eigval, 0, float('inf')))\n",
    "        self.S = self.S[self.S > 0]\n",
    "        self.r = min(self.r, self.S.shape[0])               # reassign self.r\n",
    "        order = np.argsort(eigval)[::-1][: self.r]          # sort eigval from large to small\n",
    "        eigval = eigval[order]; eigvec = eigvec[:, order]\n",
    "        self.V = eigvec.copy()\n",
    "        self.U = X.dot(self.V).dot(\n",
    "                    np.linalg.inv(np.diag(self.S)))\n",
    "        return self.U, self.S, self.V\n",
    "    def compose(self, r=-1):\n",
    "        \"\"\" 合并r个分量\n",
    "        Args:\n",
    "            r {int}: if r==-1, merge all components\n",
    "        Returns:\n",
    "            X {ndarray(m, n)}\n",
    "        \"\"\"\n",
    "        if r == -1:\n",
    "            X = self.U.dot(np.diag(self.S)).dot(self.V.T)\n",
    "            X = X.T if self.isTrans else X\n",
    "        else:\n",
    "            (m, n) = (self.n, self.m) if self.isTrans else (self.m, self.n)\n",
    "            X = np.zeros(shape=(m, n))\n",
    "            for i in range(r):\n",
    "                X += self.__getitem__(i)\n",
    "        return X\n",
    "    def __getitem__(self, idx):\n",
    "        \"\"\" 返回指定索引的分量\n",
    "        Args:\n",
    "            index {int}: range from (0, self.r)\n",
    "        \"\"\"\n",
    "        u = self.U[:, idx]\n",
    "        v = self.V[:, idx]\n",
    "        s = self.S[idx]\n",
    "        x = s * u.reshape(self.m, 1).\\\n",
    "                    dot(v.reshape(1, self.n))\n",
    "        x = x.T if self.isTrans else x\n",
    "        return x\n",
    "    def showComponets(self, r=-1):\n",
    "        \"\"\" 显示主分量\n",
    "        Notes:\n",
    "            - Resize components' shape into (40, 30)\n",
    "        \"\"\"\n",
    "        m, n = self.m, self.n\n",
    "        r = self.r if r==-1 else r\n",
    "        n_images = 10; m_images = r // n_images + 1\n",
    "        m_size, n_size = 40, 30\n",
    "        showfig = np.zeros(shape=(m_images*m_size, n_images*n_size))\n",
    "        for i in range(r):\n",
    "            m_pos = i // n_images\n",
    "            n_pos = i %  n_images\n",
    "            component = self.__getitem__(i)\n",
    "            component = component.T if self.isTrans else component\n",
    "            showfig[m_pos*m_size: (m_pos+1)*m_size, n_pos*n_size: (n_pos+1)*n_size] = cv2.resize(component, (30, 40))\n",
    "        plt.figure('components')\n",
    "        plt.imshow(showfig)\n",
    "        plt.show()"
   ]
  },
  {
   "cell_type": "markdown",
   "metadata": {},
   "source": [
    "# 导入一张图片并显示"
   ]
  },
  {
   "cell_type": "code",
   "execution_count": 4,
   "metadata": {},
   "outputs": [
    {
     "data": {
      "image/png": "[encoded data removed]",
      "text/plain": [
       "<Figure size 432x288 with 1 Axes>"
      ]
     },
     "metadata": {
      "needs_background": "light"
     },
     "output_type": "display_data"
    }
   ],
   "source": [
    "# 读取一张图片\n",
    "X = load_images()[0].reshape((32, 32))\n",
    "showmat2d(X)"
   ]
  },
  {
   "cell_type": "markdown",
   "metadata": {},
   "source": [
    "# 奇异值分解，显示分类"
   ]
  },
  {
   "cell_type": "code",
   "execution_count": 5,
   "metadata": {},
   "outputs": [
    {
     "data": {
      "image/png": "[encoded data removed]",
      "text/plain": [
       "<Figure size 432x288 with 1 Axes>"
      ]
     },
     "metadata": {
      "needs_background": "light"
     },
     "output_type": "display_data"
    }
   ],
   "source": [
    "# 对图片进行奇异值分解\n",
    "decomposer = SVD(r=-1)\n",
    "decomposer.fit(X)\n",
    "# 显示一下分量\n",
    "decomposer.showComponets(r=-1)"
   ]
  },
  {
   "cell_type": "markdown",
   "metadata": {},
   "source": [
    "# 组合分量"
   ]
  },
  {
   "cell_type": "code",
   "execution_count": 6,
   "metadata": {},
   "outputs": [
    {
     "data": {
      "image/png": "[encoded data removed]",
      "text/plain": [
       "<Figure size 432x288 with 1 Axes>"
      ]
     },
     "metadata": {
      "needs_background": "light"
     },
     "output_type": "display_data"
    },
    {
     "data": {
      "image/png": "[encoded data removed]",
      "text/plain": [
       "<Figure size 432x288 with 1 Axes>"
      ]
     },
     "metadata": {
      "needs_background": "light"
     },
     "output_type": "display_data"
    }
   ],
   "source": [
    "\n",
    "# 将全部分量组合，并显示\n",
    "X_ = decomposer.compose(r=-1)\n",
    "showmat2d(X_)\n",
    "# 将前5个分量组合，并显示\n",
    "X_ = decomposer.compose(r=5)\n",
    "showmat2d(X_)"
   ]
  }
 ],
 "metadata": {
  "kernelspec": {
   "display_name": "Python 3",
   "language": "python",
   "name": "python3"
  },
  "language_info": {
   "codemirror_mode": {
    "name": "ipython",
    "version": 3
   },
   "file_extension": ".py",
   "mimetype": "text/x-python",
   "name": "python",
   "nbconvert_exporter": "python",
   "pygments_lexer": "ipython3",
   "version": "3.7.3"
  }
 },
 "nbformat": 4,
 "nbformat_minor": 2
}
