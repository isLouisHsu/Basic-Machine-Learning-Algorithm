{
 "cells": [
  {
   "cell_type": "markdown",
   "metadata": {},
   "source": [
    "# 导入包"
   ]
  },
  {
   "cell_type": "code",
   "execution_count": 1,
   "metadata": {},
   "outputs": [],
   "source": [
    "import numpy as np\n",
    "import matplotlib.pyplot as plt\n",
    "from sklearn.datasets import load_iris"
   ]
  },
  {
   "cell_type": "markdown",
   "metadata": {},
   "source": [
    "# 定义函数"
   ]
  },
  {
   "cell_type": "code",
   "execution_count": 2,
   "metadata": {},
   "outputs": [],
   "source": [
    "def load_data():\n",
    "    \"\"\" load iris data\n",
    "    Notes:\n",
    "        - 3 classes x 50 samples/class\n",
    "    \"\"\"\n",
    "    data, target = load_iris(return_X_y=True)\n",
    "    X_train = np.zeros(shape=(data.shape[0]//2, data.shape[1]))\n",
    "    X_test  = np.zeros(shape=(data.shape[0]//2, data.shape[1]))\n",
    "    Y_train = np.zeros(shape=target.shape[0]//2)\n",
    "    Y_test  = np.zeros(shape=target.shape[0]//2)\n",
    "    for i in range(3):\n",
    "        X_train[i*25: (i+1)*25] = data[i*50: i*50+25]\n",
    "        X_test[i*25: (i+1)*25]  = data[i*50+25: (i+1)*50]\n",
    "        Y_train[i*25: (i+1)*25] = target[i*50: i*50+25]\n",
    "        Y_test[i*25: (i+1)*25]  = target[i*50+25: (i+1)*50]\n",
    "    return X_train, Y_train, X_test, Y_test\n",
    "def distance(x1, x2, type='Euclidean'):\n",
    "    if type == 'Euclidean':\n",
    "        return np.linalg.norm(x1-x2)\n",
    "    elif type == 'Cosine':\n",
    "        return x1.T.dot(x2)/(np.linalg.norm(x1)*np.linalg.norm(x2))\n",
    "def showfig(X, y_true, y_pred):\n",
    "    figX = np.arange(0, 75)\n",
    "    plt.figure()\n",
    "    plt.axvline(25);plt.axvline(50)\n",
    "    plt.scatter(figX, y_pred, c=y_true)\n",
    "    plt.show()"
   ]
  },
  {
   "cell_type": "markdown",
   "metadata": {},
   "source": [
    "# 定义类"
   ]
  },
  {
   "cell_type": "code",
   "execution_count": 3,
   "metadata": {},
   "outputs": [],
   "source": [
    "class KNN():\n",
    "    def __init__(self, n_neighbor, type='Euclidean'):\n",
    "        self.n_neighbor = n_neighbor\n",
    "        self.type = type\n",
    "        self.samples = None\n",
    "        self.labels = None\n",
    "        self.n_clusters = None\n",
    "        self.n_samples = None\n",
    "    def fit(self, X, y):\n",
    "        self.samples = X\n",
    "        self.labels = y\n",
    "        self.n_clusters = len(set(list(y)))\n",
    "        self.n_samples = X.shape[0]\n",
    "    def predict(self, X):\n",
    "        \"\"\"\n",
    "        Parameters:\n",
    "            X {ndarray(n_samples, n_features)}\n",
    "        Returns:\n",
    "            y_pred {ndarray(n_samples,)}\n",
    "        \"\"\"\n",
    "        (n_samples, n_features) = X.shape\n",
    "        y_pred = np.zeros(shape=(n_samples, ))\n",
    "        for i in range(n_samples):\n",
    "            dists = np.zeros(shape=(self.n_samples))\n",
    "            for j in range(self.n_samples):\n",
    "                dists[j] = distance(X[i], self.samples[j], type=self.type)\n",
    "        \n",
    "            if self.type == 'Euclidean':\n",
    "                order = np.argsort(dists)[: self.n_neighbor]\n",
    "            elif self.type == 'Cosine':\n",
    "                order = np.argsort(dists)[::-1][: self.n_neighbor]\n",
    "            \n",
    "            labels = self.labels[order]\n",
    "            count = np.bincount(labels.astype('int'))\n",
    "            y_pred[i] = np.argmax(count)\n",
    "        return y_pred"
   ]
  },
  {
   "cell_type": "markdown",
   "metadata": {},
   "source": [
    "# 载入数据集"
   ]
  },
  {
   "cell_type": "code",
   "execution_count": 4,
   "metadata": {},
   "outputs": [],
   "source": [
    "X_train, y_train, X_test, y_test = load_data()"
   ]
  },
  {
   "cell_type": "markdown",
   "metadata": {},
   "source": [
    "# 用欧式距离进行分类"
   ]
  },
  {
   "cell_type": "code",
   "execution_count": 5,
   "metadata": {},
   "outputs": [
    {
     "data": {
      "image/png": "[encoded data removed]",
      "text/plain": [
       "<Figure size 432x288 with 1 Axes>"
      ]
     },
     "metadata": {
      "needs_background": "light"
     },
     "output_type": "display_data"
    }
   ],
   "source": [
    "estimator_euc = KNN(n_neighbor=15, type='Euclidean')\n",
    "estimator_euc.fit(X_train, y_train)\n",
    "y_pred_euc = estimator_euc.predict(X_test)\n",
    "showfig(X_test, y_test, y_pred_euc)"
   ]
  },
  {
   "cell_type": "markdown",
   "metadata": {},
   "source": [
    "# 用余弦距离进行分类"
   ]
  },
  {
   "cell_type": "code",
   "execution_count": 6,
   "metadata": {},
   "outputs": [
    {
     "data": {
      "image/png": "[encoded data removed]",
      "text/plain": [
       "<Figure size 432x288 with 1 Axes>"
      ]
     },
     "metadata": {
      "needs_background": "light"
     },
     "output_type": "display_data"
    }
   ],
   "source": [
    "estimator_cos = KNN(n_neighbor=15, type='Cosine')\n",
    "estimator_cos.fit(X_train, y_train)\n",
    "y_pred_cos = estimator_cos.predict(X_test)\n",
    "showfig(X_test, y_test, y_pred_cos)"
   ]
  }
 ],
 "metadata": {
  "kernelspec": {
   "display_name": "Python 3",
   "language": "python",
   "name": "python3"
  },
  "language_info": {
   "codemirror_mode": {
    "name": "ipython",
    "version": 3
   },
   "file_extension": ".py",
   "mimetype": "text/x-python",
   "name": "python",
   "nbconvert_exporter": "python",
   "pygments_lexer": "ipython3",
   "version": "3.6.6"
  }
 },
 "nbformat": 4,
 "nbformat_minor": 2
}
