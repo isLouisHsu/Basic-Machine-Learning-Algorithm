{
 "cells": [
  {
   "cell_type": "markdown",
   "metadata": {},
   "source": [
    "# 说明"
   ]
  },
  {
   "cell_type": "markdown",
   "metadata": {},
   "source": [
    "测试对比度对识别度的影响\n",
    "1. 仅采用通道17，对比度调整幅度为$(0.5, 1.5)$\n",
    "2. 通过运算改变其对比度，可能与实际情况不太相符\n",
    "3. PCA + SVM\n",
    "4. log_loss\n",
    "由于亮度只是在原数据基础上作相同增减，改变亮度没有意义"
   ]
  },
  {
   "cell_type": "markdown",
   "metadata": {},
   "source": [
    "# 注意"
   ]
  },
  {
   "cell_type": "markdown",
   "metadata": {},
   "source": [
    "原数据为16位无符号整形"
   ]
  },
  {
   "cell_type": "code",
   "execution_count": 1,
   "metadata": {},
   "outputs": [],
   "source": [
    "import os\n",
    "import cv2\n",
    "import numpy as np\n",
    "import matplotlib.pyplot as plt\n",
    "import time\n",
    "\n",
    "from sklearn.pipeline import Pipeline \n",
    "from sklearn.model_selection import RandomizedSearchCV\n",
    "from sklearn.model_selection import StratifiedShuffleSplit\n",
    "from sklearn.preprocessing import StandardScaler\n",
    "\n",
    "from sklearn.externals import joblib\n",
    "from sklearn.metrics import accuracy_score, log_loss\n",
    "\n",
    "from sklearn.decomposition import PCA\n",
    "from sklearn.svm import SVC\n",
    "\n",
    "import datasets\n",
    "\n",
    "current_time = lambda: time.strftime('%Y-%m-%d %H:%M:%S',time.localtime())\n",
    "saveresult = True"
   ]
  },
  {
   "cell_type": "markdown",
   "metadata": {},
   "source": [
    "# Import Data"
   ]
  },
  {
   "cell_type": "code",
   "execution_count": 2,
   "metadata": {},
   "outputs": [
    {
     "name": "stdout",
     "output_type": "stream",
     "text": [
      "image 499/800\n"
     ]
    }
   ],
   "source": [
    "X, y = datasets.load_X_y_with_gray('train', n_samples=800, dsize=(18, 22))\n",
    "X = X[:, :, :, 17]\n",
    "n_samples = X.shape[0]\n",
    "\n",
    "groupsplit = StratifiedShuffleSplit(n_splits=1, test_size=0.25, random_state=42)"
   ]
  },
  {
   "cell_type": "code",
   "execution_count": 3,
   "metadata": {},
   "outputs": [
    {
     "name": "stdout",
     "output_type": "stream",
     "text": [
      "[ 0 60 60 60 60 60 60 60 60 60 60]\n",
      "[ 0 20 20 20 20 20 20 20 20 20 20]\n"
     ]
    },
    {
     "data": {
      "image/png": "[encoded data removed]",
      "text/plain": [
       "<Figure size 432x288 with 1 Axes>"
      ]
     },
     "metadata": {
      "needs_background": "light"
     },
     "output_type": "display_data"
    }
   ],
   "source": [
    "# 查看测试集样本中各类别的数目，训练集为其3倍\n",
    "splitRes = groupsplit.split(X, y)\n",
    "for train_index, test_index in splitRes:\n",
    "    X_train, y_train = X[train_index], y[train_index]\n",
    "    X_test,  y_test  = X[test_index],  y[test_index]\n",
    "    \n",
    "    print(np.bincount(y_train))\n",
    "    print(np.bincount(y_test))\n",
    "#     datasets.show_cube(X_train[0], 5, True); datasets.show_cube(X_test[0], 5, True)\n",
    "    \n",
    "    plt.imshow(X_train[0]); plt.imshow(X_test[0])\n",
    "    plt.show()"
   ]
  },
  {
   "cell_type": "markdown",
   "metadata": {},
   "source": [
    "# Define Model"
   ]
  },
  {
   "cell_type": "code",
   "execution_count": 6,
   "metadata": {},
   "outputs": [],
   "source": [
    "from sklearn.svm import SVC\n",
    "# class sklearn.svm.SVC(C=1.0, kernel=’rbf’, degree=3, gamma=’auto’, coef0=0.0, shrinking=True,\n",
    "#                       probability=False, tol=0.001, cache_size=200, \n",
    "#                       class_weight=None, verbose=False, max_iter=-1, \n",
    "#                       decision_function_shape=’ovr’, random_state=None)\n",
    "model_type = 'svc'\n",
    "\n",
    "steps = [\n",
    "    ('standard', StandardScaler()),\n",
    "    ('reduce_dim', PCA()), \n",
    "    ('classification', SVC(probability=True, kernel = 'linear')),\n",
    "]\n",
    "pipe = Pipeline(steps=steps)\n",
    "\n",
    "hyper_params = {\n",
    "    'reduce_dim__n_components': [int(18*22*(i/10)) for i in range(1, 10)],\n",
    "    \n",
    "    'classification__C': [0.2*i for i in range(1, 20)],\n",
    "#     'classification__kernel': ['linear', 'rbf'],\n",
    "    'classification__degree': [_ for _ in range(2, 5)],\n",
    "}\n",
    "searcher = RandomizedSearchCV(pipe, hyper_params, scoring='neg_log_loss')\n",
    "# searcher = RandomizedSearchCV(pipe, hyper_params, scoring='accuracy')"
   ]
  },
  {
   "cell_type": "markdown",
   "metadata": {},
   "source": [
    "# Train"
   ]
  },
  {
   "cell_type": "code",
   "execution_count": 9,
   "metadata": {
    "scrolled": true
   },
   "outputs": [
    {
     "name": "stdout",
     "output_type": "stream",
     "text": [
      "[0.1        0.64444444 1.18888889 1.73333333 2.27777778 2.82222222\n",
      " 3.36666667 3.91111111 4.45555556 5.        ]\n",
      "{'reduce_dim__n_components': 277, 'classification__degree': 3, 'classification__C': 3.8000000000000003}\n",
      "2018-11-02 21:03:06 contrast adjust: 0.10 | acc_train: 100.00%, loss_train:0.023249 | acc_test: 97.00%, loss_test:0.207802\n",
      "{'reduce_dim__n_components': 356, 'classification__degree': 3, 'classification__C': 3.0}\n",
      "2018-11-02 21:03:20 contrast adjust: 0.64 | acc_train: 100.00%, loss_train:0.023908 | acc_test: 97.00%, loss_test:0.211487\n",
      "{'reduce_dim__n_components': 316, 'classification__degree': 4, 'classification__C': 3.6}\n",
      "2018-11-02 21:03:35 contrast adjust: 1.19 | acc_train: 100.00%, loss_train:0.022857 | acc_test: 97.00%, loss_test:0.208490\n",
      "{'reduce_dim__n_components': 356, 'classification__degree': 4, 'classification__C': 3.8000000000000003}\n",
      "2018-11-02 21:03:49 contrast adjust: 1.73 | acc_train: 100.00%, loss_train:0.021306 | acc_test: 97.00%, loss_test:0.202161\n",
      "{'reduce_dim__n_components': 277, 'classification__degree': 3, 'classification__C': 0.2}\n",
      "2018-11-02 21:04:05 contrast adjust: 2.28 | acc_train: 100.00%, loss_train:0.022602 | acc_test: 97.00%, loss_test:0.206018\n",
      "{'reduce_dim__n_components': 356, 'classification__degree': 3, 'classification__C': 0.4}\n",
      "2018-11-02 21:04:18 contrast adjust: 2.82 | acc_train: 100.00%, loss_train:0.022493 | acc_test: 97.00%, loss_test:0.205075\n",
      "{'reduce_dim__n_components': 277, 'classification__degree': 3, 'classification__C': 3.8000000000000003}\n",
      "2018-11-02 21:04:30 contrast adjust: 3.37 | acc_train: 100.00%, loss_train:0.022594 | acc_test: 97.00%, loss_test:0.206616\n",
      "{'reduce_dim__n_components': 356, 'classification__degree': 3, 'classification__C': 0.4}\n",
      "2018-11-02 21:04:46 contrast adjust: 3.91 | acc_train: 100.00%, loss_train:0.022134 | acc_test: 97.00%, loss_test:0.204577\n",
      "{'reduce_dim__n_components': 316, 'classification__degree': 2, 'classification__C': 3.2}\n",
      "2018-11-02 21:04:57 contrast adjust: 4.46 | acc_train: 100.00%, loss_train:0.022879 | acc_test: 96.50%, loss_test:0.207249\n",
      "{'reduce_dim__n_components': 356, 'classification__degree': 3, 'classification__C': 1.8}\n",
      "2018-11-02 21:05:12 contrast adjust: 5.00 | acc_train: 100.00%, loss_train:0.022442 | acc_test: 97.00%, loss_test:0.210256\n",
      "=======================================================================================================\n"
     ]
    },
    {
     "data": {
      "image/png": "[encoded data removed]",
      "text/plain": [
       "<Figure size 288x216 with 1 Axes>"
      ]
     },
     "metadata": {
      "needs_background": "light"
     },
     "output_type": "display_data"
    }
   ],
   "source": [
    "acc_train_saved = []; acc_test_saved = []\n",
    "loss_train_saved = []; loss_test_saved = []\n",
    "showfig = np.zeros(shape=(22*2, 18*5), dtype=X.dtype)\n",
    "contrastAdj = np.linspace(0.1, 5, 10)\n",
    "print(contrastAdj)\n",
    "\n",
    "splitRes = groupsplit.split(X, y)\n",
    "for train_index, test_index in splitRes:\n",
    "\n",
    "    for i in range(contrastAdj.shape[0]):\n",
    "        adj = contrastAdj[i]\n",
    "        X_ = datasets.brightcontrast(X, 0, adj)\n",
    "        showfig[(i//5)*22: (i//5+1)*22, (i%5)*18: (i%5+1)*18] = X_[0]\n",
    "        X_train, y_train = X_[train_index], y[train_index]\n",
    "        X_test,  y_test  = X_[test_index],  y[test_index]\n",
    "    \n",
    "        X_train = X_train.reshape((X_train.shape[0], -1))\n",
    "        X_test  = X_test.reshape((X_test.shape[0], -1))\n",
    "        \n",
    "        searcher.fit(X_train, y_train)\n",
    "        print(searcher.best_params_)\n",
    "#         print('The best score is: {:>.2f}'.format(searcher.best_score_))\n",
    "\n",
    "        y_train_pred_proba = searcher.predict_proba(X_train)\n",
    "        y_test_pred_proba = searcher.predict_proba(X_test)\n",
    "        y_train_pred = searcher.predict(X_train)\n",
    "        y_test_pred = searcher.predict(X_test)\n",
    "\n",
    "        acc_train = accuracy_score(y_train_pred, y_train)\n",
    "        acc_test  = accuracy_score(y_test_pred,  y_test )\n",
    "        loss_train = log_loss(y_train, y_train_pred_proba) / 3. # 结果为加和，训练集样本数目为测试集3倍\n",
    "        loss_test  = log_loss(y_test,  y_test_pred_proba)\n",
    "\n",
    "        acc_train_saved.append(acc_train); acc_test_saved.append(acc_test)\n",
    "        loss_train_saved.append(loss_train); loss_test_saved.append(loss_test)\n",
    "        \n",
    "        print_log = current_time() + ' contrast adjust: {:.2f} | acc_train: {:>.2%}, loss_train:{:>.6f} | acc_test: {:>.2%}, loss_test:{:>.6f}'.\\\n",
    "                        format(adj, acc_train, loss_train, acc_test, loss_test)\n",
    "        print(print_log)\n",
    "\n",
    "        if saveresult:\n",
    "            model_name = '{}_adj_{:.2f}.pkl'.format(model_type, adj)\n",
    "            save_path = os.path.join('F:/hyperspectral_face/models/exp3/{}'.format(model_type), model_name)\n",
    "            joblib.dump(searcher.best_estimator_, save_path)\n",
    "    \n",
    "    print_log = '======================================================================================================='\n",
    "    print(print_log)\n",
    "\n",
    "plt.figure(figsize=(4, 3))\n",
    "plt.imshow(showfig)\n",
    "plt.show()"
   ]
  },
  {
   "cell_type": "code",
   "execution_count": 10,
   "metadata": {},
   "outputs": [
    {
     "data": {
      "image/png": "[encoded data removed]",
      "text/plain": [
       "<Figure size 2160x720 with 1 Axes>"
      ]
     },
     "metadata": {
      "needs_background": "light"
     },
     "output_type": "display_data"
    },
    {
     "data": {
      "image/png": "[encoded data removed]",
      "text/plain": [
       "<Figure size 2160x720 with 1 Axes>"
      ]
     },
     "metadata": {
      "needs_background": "light"
     },
     "output_type": "display_data"
    }
   ],
   "source": [
    "save_path = os.path.join('F:/hyperspectral_face/models/exp3', model_type)\n",
    "if not os.path.exists(save_path): os.mkdir(save_path)\n",
    "\n",
    "plt.figure('accuracy', figsize=(30,10))\n",
    "plt.title('改变对比度识别准确率'); plt.xlabel('contrastAdj'); plt.ylabel('accuracy/%')\n",
    "plt.bar(contrastAdj, np.array(acc_train_saved)*100, \n",
    "            alpha=0.9, width = 0.2, facecolor = 'lightskyblue', edgecolor = 'white', label='train')\n",
    "plt.bar(contrastAdj + 0.2, np.array(acc_test_saved)*100, \n",
    "            alpha=0.9, width = 0.2, facecolor = 'yellowgreen', edgecolor = 'white', label='test')\n",
    "if saveresult:\n",
    "    plt.savefig(os.path.join(save_path, 'accuracy.png'))\n",
    "\n",
    "plt.figure('log_loss', figsize=(30,10))\n",
    "plt.title('改变对比度识别损失值'); plt.xlabel('contrastAdj'); plt.ylabel('log_loss')\n",
    "plt.bar(contrastAdj, np.array(loss_train_saved), \n",
    "            alpha=0.9, width = 0.2, facecolor = 'lightskyblue', edgecolor = 'white', label='train')\n",
    "plt.bar(contrastAdj + 0.2, np.array(loss_test_saved), \n",
    "            alpha=0.9, width = 0.2, facecolor = 'yellowgreen', edgecolor = 'white', label='test')\n",
    "if saveresult:\n",
    "    plt.savefig(os.path.join(save_path, 'log_loss.png'))\n",
    "\n",
    "# plt.legend(loc=\"upper left\")\n",
    "plt.show()"
   ]
  }
 ],
 "metadata": {
  "kernelspec": {
   "display_name": "Python 3",
   "language": "python",
   "name": "python3"
  },
  "language_info": {
   "codemirror_mode": {
    "name": "ipython",
    "version": 3
   },
   "file_extension": ".py",
   "mimetype": "text/x-python",
   "name": "python",
   "nbconvert_exporter": "python",
   "pygments_lexer": "ipython3",
   "version": "3.6.6"
  }
 },
 "nbformat": 4,
 "nbformat_minor": 2
}
