{
 "cells": [
  {
   "cell_type": "code",
   "execution_count": null,
   "metadata": {},
   "outputs": [],
   "source": [
    "import os\n",
    "import numpy as np\n",
    "\n",
    "from sklearn.pipeline import Pipeline \n",
    "from sklearn.model_selection import RandomizedSearchCV\n",
    "from sklearn.model_selection import StratifiedShuffleSplit\n",
    "from sklearn.externals import joblib\n",
    "from sklearn.metrics import accuracy_score, log_loss\n",
    "\n",
    "from sklearn.decomposition import PCA\n",
    "from sklearn.svm import SVC\n",
    "from sklearn.linear_model import LogisticRegression, LogisticRegressionCV\n",
    "\n",
    "\n",
    "import datasets"
   ]
  },
  {
   "cell_type": "code",
   "execution_count": null,
   "metadata": {},
   "outputs": [],
   "source": [
    "X, y = datasets.load_X_y_augmented('SampleImages_F_augmented', n_samples=-1, dsize=(18, 22))\n",
    "n_samples = X.shape[0]; n_channels = X.shape[3]\n",
    "X = X[:, :, :, 2]"
   ]
  },
  {
   "cell_type": "code",
   "execution_count": null,
   "metadata": {},
   "outputs": [],
   "source": [
    "steps = [\n",
    "    ('reduce_dim', PCA()), \n",
    "    ('classification', SVC(probability=True)),\n",
    "]\n",
    "pipe = Pipeline(steps=steps)\n",
    "\n",
    "hyper_params = {\n",
    "    'reduce_dim__n_components': [int(18*22*(i/10)) for i in range(1, 10)],\n",
    "    'classification__C': [0.2*i for i in range(1, 30)],\n",
    "}\n",
    "searcher = RandomizedSearchCV(pipe, hyper_params, scoring='accuracy')\n",
    "\n",
    "groupsplit = StratifiedShuffleSplit(n_splits=1, test_size=0.25, random_state=42)"
   ]
  },
  {
   "cell_type": "code",
   "execution_count": null,
   "metadata": {},
   "outputs": [],
   "source": [
    "splitRes = groupsplit.split(X_channel_c, y)\n",
    "for train_index, test_index in splitRes:\n",
    "    X_train, y_train = X_channel_c[train_index], y[train_index]\n",
    "    X_test,  y_test  = X_channel_c[test_index],  y[test_index]\n",
    "\n",
    "    X_train = X_train.reshape((X_train.shape[0], -1))\n",
    "    X_test  = X_test.reshape((X_test.shape[0], -1))\n",
    "        \n",
    "    searcher.fit(X_train, y_train)\n",
    "    print('The best parameters is: ')\n",
    "    print(searcher.best_params_)\n",
    "    print('The best score is: {:>.2f}'.format(searcher.best_score_))\n",
    "\n",
    "    y_train_pred_proba = searcher.predict_proba(X_train)\n",
    "    y_test_pred_proba = searcher.predict_proba(X_test)\n",
    "    y_train_pred = searcher.predict(X_train)\n",
    "    y_test_pred = searcher.predict(X_test)\n",
    "\n",
    "    acc_train = accuracy_score(y_train_pred, y_train)\n",
    "    acc_test  = accuracy_score(y_test_pred,  y_test )\n",
    "    loss_train = log_loss(y_train, y_train_pred_proba) / y_train.shape[0]\n",
    "    loss_test  = log_loss(y_test,  y_test_pred_proba) / y_test.shape[0]\n",
    "        \n",
    "    print_log = 'channel: {:>2}/{:>2} | acc_train: {:>.2%}, loss_train:{:>.2f} | acc_test: {:>.2%}, loss_test:{:>.2f}'.\\\n",
    "                    format(c, n_channels, acc_train, loss_train, acc_test, loss_test)\n",
    "    print(print_log)"
   ]
  }
 ],
 "metadata": {
  "kernelspec": {
   "display_name": "Python 3",
   "language": "python",
   "name": "python3"
  },
  "language_info": {
   "codemirror_mode": {
    "name": "ipython",
    "version": 3
   },
   "file_extension": ".py",
   "mimetype": "text/x-python",
   "name": "python",
   "nbconvert_exporter": "python",
   "pygments_lexer": "ipython3",
   "version": "3.6.6"
  }
 },
 "nbformat": 4,
 "nbformat_minor": 2
}
