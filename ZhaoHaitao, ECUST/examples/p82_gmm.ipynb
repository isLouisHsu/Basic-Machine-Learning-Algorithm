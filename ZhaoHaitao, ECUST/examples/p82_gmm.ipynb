{
 "cells": [
  {
   "cell_type": "markdown",
   "metadata": {},
   "source": [
    "# 导入包"
   ]
  },
  {
   "cell_type": "code",
   "execution_count": 1,
   "metadata": {},
   "outputs": [],
   "source": [
    "import numpy as np\n",
    "import numpy.random as nr\n",
    "import numpy.linalg as nl\n",
    "import matplotlib.pyplot as plt\n",
    "from sklearn.cluster import KMeans"
   ]
  },
  {
   "cell_type": "markdown",
   "metadata": {},
   "source": [
    "# 定义函数"
   ]
  },
  {
   "cell_type": "code",
   "execution_count": 2,
   "metadata": {},
   "outputs": [],
   "source": [
    "def load_data():\n",
    "    mu1 = np.array([[6, 6]])\n",
    "    s1 = np.array([[1, -0.5], [-0.5, 1]])\n",
    "    X1 = np.dot(np.random.randn(150, 2), nl.cholesky(s1)) + mu1\n",
    "    mu2 = np.array([[10, 10]])\n",
    "    s2 = np.array([[2, 0.5], [0.5, 1]])\n",
    "    X2 = np.dot(np.random.randn(50, 2), nl.cholesky(s2)) + mu2\n",
    "    mu3 = np.array([[10, 0]])\n",
    "    s3 = np.array([[2, 0.5], [0.5, 2]])\n",
    "    X3 = np.dot(np.random.randn(100, 2), nl.cholesky(s3)) + mu3\n",
    "    X = np.r_[X1, X2, X3]\n",
    "    return X\n",
    "def multiGaussian(x, mu, sigma):\n",
    "    n = x.shape[0]\n",
    "    z = (x-mu).T.dot(nl.inv(sigma)).dot(x-mu)\n",
    "    return np.exp(-0.5*z)/np.sqrt(2*np.pi*nl.det(sigma))"
   ]
  },
  {
   "cell_type": "markdown",
   "metadata": {},
   "source": [
    "# 定义类"
   ]
  },
  {
   "cell_type": "code",
   "execution_count": 3,
   "metadata": {},
   "outputs": [],
   "source": [
    "class GMM():\n",
    "    \"\"\" Gaussian Mixture Model\n",
    "    Attributes:\n",
    "        n_clusters {int}\n",
    "        prior {ndarray(n_clusters,)}\n",
    "        mu {ndarray(n_clusters, n_features)}\n",
    "        sigma {ndarray(n_clusters, n_features, n_features)}\n",
    "    \"\"\"\n",
    "    def __init__(self, n_clusters):\n",
    "        self.n_clusters = n_clusters\n",
    "        self.prior = None\n",
    "        self.mu = None\n",
    "        self.sigma = None\n",
    "    def fit(self, X, delta=0.01):\n",
    "        \"\"\"\n",
    "        Args:\n",
    "            X {ndarray(n_samples, n_features)}\n",
    "            delta {float}\n",
    "        Notes:\n",
    "            - Initialize with k-means\n",
    "        \"\"\"\n",
    "        (n_samples, n_features) = X.shape\n",
    "\n",
    "        # initialize with k-means\n",
    "        clf = KMeans(n_clusters=self.n_clusters)\n",
    "        clf.fit(X)\n",
    "        self.mu = clf.cluster_centers_ \n",
    "        self.prior = np.zeros(self.n_clusters)\n",
    "        self.sigma = np.zeros((self.n_clusters, n_features, n_features))\n",
    "        for k in range(self.n_clusters):\n",
    "            X_ = X[clf.labels_==k]\n",
    "            self.prior[k] = X_.shape[0] / X_.shape[0]\n",
    "            self.sigma[k] = np.cov(X_.T)\n",
    "        \n",
    "        while True:\n",
    "            mu_ = self.mu.copy()\n",
    "            # E-step: updata gamma\n",
    "            gamma = np.zeros((n_samples, self.n_clusters))\n",
    "            for i in range(n_samples):\n",
    "                for k in range(self.n_clusters):\n",
    "                    denominator = 0\n",
    "                    for j in range(self.n_clusters):\n",
    "                        post = self.prior[k] *\\\n",
    "                                    multiGaussian(X[i], self.mu[j], self.sigma[j])\n",
    "                        denominator += post\n",
    "                        if j==k: numerator = post\n",
    "                    gamma[i, k] = numerator/denominator\n",
    "            # M-step: updata prior, mu, sigma\n",
    "            for k in range(self.n_clusters):\n",
    "                sum1 = 0\n",
    "                sum2 = 0\n",
    "                sum3 = 0\n",
    "                for i in range(n_samples):\n",
    "                    sum1 += gamma[i, k]\n",
    "                    sum2 += gamma[i, k] * X[i]\n",
    "                    x_ = np.reshape(X[i] - self.mu[k], (n_features, 1))\n",
    "                    sum3 += gamma[i, k] * x_.dot(x_.T)\n",
    "                self.prior[k]  = sum1 / n_samples\n",
    "                self.mu[k]     = sum2 / sum1\n",
    "                self.sigma[k]  = sum3 / sum1\n",
    "            # to stop\n",
    "            mu_delta = 0\n",
    "            for k in range(self.n_clusters):\n",
    "                mu_delta += nl.norm(self.mu[k] - mu_[k])\n",
    "            print(mu_delta)\n",
    "            if mu_delta < delta: break\n",
    "        return self.prior, self.mu, self.sigma\n",
    "    def predict_proba(self, X):\n",
    "        \"\"\"\n",
    "        Args:\n",
    "            X {ndarray(n_samples, n_features)}\n",
    "        Returns:\n",
    "            y_pred_proba {ndarray(n_samples, n_clusters)}\n",
    "        \"\"\"\n",
    "        (n_samples, n_features) = X.shape\n",
    "        y_pred_proba = np.zeros((n_samples, self.n_clusters))\n",
    "        for i in range(n_samples):\n",
    "            for k in range(self.n_clusters):\n",
    "                y_pred_proba[i, k] = self.prior[k] *\\\n",
    "                                multiGaussian(X[i], self.mu[k], self.sigma[k])\n",
    "        return y_pred_proba\n",
    "    def predict(self, X):\n",
    "        \"\"\"\n",
    "        Args:\n",
    "            X {ndarray(n_samples, n_features)}\n",
    "        Returns:\n",
    "            y_pred_proba {ndarray(n_samples,)}\n",
    "        \"\"\"\n",
    "        y_pred_proba = self.predict_proba(X)\n",
    "        return np.argmax(y_pred_proba, axis=1)"
   ]
  },
  {
   "cell_type": "markdown",
   "metadata": {},
   "source": [
    "# 载入数据集"
   ]
  },
  {
   "cell_type": "code",
   "execution_count": 4,
   "metadata": {},
   "outputs": [],
   "source": [
    "X = load_data()"
   ]
  },
  {
   "cell_type": "markdown",
   "metadata": {},
   "source": [
    "# 用KMeans聚类"
   ]
  },
  {
   "cell_type": "code",
   "execution_count": 5,
   "metadata": {},
   "outputs": [],
   "source": [
    "estimator_kmeans = KMeans(n_clusters=3)\n",
    "estimator_kmeans.fit(X)\n",
    "y_pred_kmeans = estimator_kmeans.predict(X)"
   ]
  },
  {
   "cell_type": "markdown",
   "metadata": {},
   "source": [
    "# 用GMM聚类"
   ]
  },
  {
   "cell_type": "code",
   "execution_count": 6,
   "metadata": {},
   "outputs": [
    {
     "name": "stdout",
     "output_type": "stream",
     "text": [
      "0.1975966557896199\n",
      "0.05058955958535487\n",
      "0.020842421138704232\n",
      "0.009606336506416693\n"
     ]
    }
   ],
   "source": [
    "estimator_gmm = GMM(n_clusters=3)\n",
    "estimator_gmm.fit(X, delta=0.01)\n",
    "y_pred_gmm = estimator_gmm.predict(X)"
   ]
  },
  {
   "cell_type": "markdown",
   "metadata": {},
   "source": [
    "# 做图显示效果"
   ]
  },
  {
   "cell_type": "code",
   "execution_count": 7,
   "metadata": {},
   "outputs": [
    {
     "data": {
      "image/png": "[encoded data removed]",
      "text/plain": [
       "<Figure size 432x288 with 1 Axes>"
      ]
     },
     "metadata": {
      "needs_background": "light"
     },
     "output_type": "display_data"
    },
    {
     "data": {
      "image/png": "[encoded data removed]",
      "text/plain": [
       "<Figure size 432x288 with 1 Axes>"
      ]
     },
     "metadata": {
      "needs_background": "light"
     },
     "output_type": "display_data"
    }
   ],
   "source": [
    "fx = np.arange(300)\n",
    "plt.figure(); plt.axvline(150); plt.axvline(200)\n",
    "plt.title(\"GMM\")\n",
    "plt.scatter(fx, y_pred_gmm)\n",
    "plt.figure(); plt.axvline(150); plt.axvline(200)\n",
    "plt.title(\"KMeans\")\n",
    "plt.scatter(fx, y_pred_kmeans)\n",
    "plt.show()"
   ]
  }
 ],
 "metadata": {
  "kernelspec": {
   "display_name": "Python 3",
   "language": "python",
   "name": "python3"
  },
  "language_info": {
   "codemirror_mode": {
    "name": "ipython",
    "version": 3
   },
   "file_extension": ".py",
   "mimetype": "text/x-python",
   "name": "python",
   "nbconvert_exporter": "python",
   "pygments_lexer": "ipython3",
   "version": "3.6.6"
  }
 },
 "nbformat": 4,
 "nbformat_minor": 2
}
