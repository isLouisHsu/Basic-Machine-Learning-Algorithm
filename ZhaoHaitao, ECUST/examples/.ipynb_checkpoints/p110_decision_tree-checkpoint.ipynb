{
 "cells": [
  {
   "cell_type": "markdown",
   "metadata": {},
   "source": [
    "# 导入包"
   ]
  },
  {
   "cell_type": "markdown",
   "metadata": {},
   "source": [
    "`OneHotEncoder`是为了方便求概率"
   ]
  },
  {
   "cell_type": "code",
   "execution_count": 1,
   "metadata": {},
   "outputs": [],
   "source": [
    "import numpy as np\n",
    "from sklearn.preprocessing import OneHotEncoder"
   ]
  },
  {
   "cell_type": "markdown",
   "metadata": {},
   "source": [
    "# 用于编码"
   ]
  },
  {
   "cell_type": "code",
   "execution_count": 2,
   "metadata": {},
   "outputs": [],
   "source": [
    "dict_encode = [\n",
    "    {'青年': 0, '中年': 1, '老年': 2},\n",
    "    {'否':   0, '是': 1},\n",
    "    {'否':   0, '是': 1},\n",
    "    {'一般': 0, '好': 1, '非常好': 2},\n",
    "    {'否':   0, '是': 1}\n",
    "]"
   ]
  },
  {
   "cell_type": "code",
   "execution_count": 3,
   "metadata": {},
   "outputs": [],
   "source": [
    "class Node():\n",
    "    \"\"\"\n",
    "    Attributes:\n",
    "        index: 子树分类标签, 若为叶节点, 则为None\n",
    "        childNode: 子树，若为叶节点, 则为分类标签; 否则为字典\n",
    "    \"\"\"\n",
    "    def __init__(self):\n",
    "        self.index = None\n",
    "        self.childNode = None"
   ]
  },
  {
   "cell_type": "code",
   "execution_count": 4,
   "metadata": {},
   "outputs": [],
   "source": [
    "class DecisionTree():\n",
    "    '''\n",
    "    @note:  \n",
    "        - categorical features;\n",
    "        - ID3\n",
    "    '''\n",
    "    def __init__(self):\n",
    "        self.tree = None\n",
    "    def fit(self, X, y):\n",
    "        self.tree = self.creatNode(X, y)\n",
    "    def creatNode(self, X, y):\n",
    "        node = Node()\n",
    "        # 若只含一种类别，则返回叶节点\n",
    "        if len(set(y)) == 1: node.childNode = list(set(y))[0]; return node\n",
    "        # entropy: H(D)\n",
    "        y_encoded = OneHotEncoder().fit_transform(y.reshape(-1, 1)).toarray()\n",
    "        p_y = np.mean(y_encoded, axis=0)\n",
    "        p_y[p_y==0.0] = 1.0                                         # 因为 0*np.log(0)结果为nan, 而不是0, 用 1*np.log(1)替代\n",
    "        H_D = - np.sum(p_y * np.log(p_y))\n",
    "        # conditional entropy: H(D|A)\n",
    "        H_D_A = np.zeros(shape=(X.shape[1],))                       # initialize\n",
    "        for i_feature in range(X.shape[1]):\n",
    "            X_feature = X[:, i_feature]\n",
    "            if len(set(X_feature)) == 1: \n",
    "                H_D_A[i_feature] = float('inf'); continue           # 若该特征只有一种取值，表示已使用该列作为分类特征\n",
    "            X_feature_encoded = OneHotEncoder().fit_transform(X_feature.reshape((-1, 1))).toarray()\n",
    "            p_X = np.mean(X_feature_encoded, axis=0)                # 每个取值的概率\n",
    "            for j_feature in range(X_feature_encoded.shape[1]):     # 该特征取值有几种，编码后就有几列\n",
    "                y_encoded_feature = y_encoded[X_feature_encoded[:, j_feature]==1]   # 该特征某种取值下，其对应的标签值\n",
    "                p_y_X = np.mean(y_encoded_feature, axis=0)\n",
    "                p_y_X[p_y_X==0.0] = 1.0\n",
    "                H_D_feature = - np.sum(p_y_X * np.log(p_y_X))\n",
    "                H_D_A[i_feature] += p_X[j_feature] * H_D_feature    # 条件熵\n",
    "        # information gain: g(D, A) = H(D) - H(D|A)\n",
    "        g_D_A = H_D - H_D_A\n",
    "        # 选出最大的作为分类特征\n",
    "        node.index = np.argmax(g_D_A)\n",
    "        X_selected = X[:, node.index]\n",
    "        # 分类后继续建立树\n",
    "        node.childNode = dict()\n",
    "        for val in set(X_selected):\n",
    "            valIndex = (X_selected==val)\n",
    "            X_val, y_val = X[valIndex], y[valIndex]\n",
    "            node.childNode[val] = self.creatNode(X_val, y_val)      # 存储在字典中，键为分类值，值为子树\n",
    "        return node\n",
    "    def predict(self, X):\n",
    "        y_pred = np.zeros(shape=(X.shape[0],))\n",
    "        for i_sample in range(X.shape[0]):\n",
    "            currentNode = self.tree                                 # 初始化为父节点\n",
    "            while not currentNode.index==None:                      # 若为None, 表示为叶子结点\n",
    "                val = X[i_sample, currentNode.index]                # 当前样本在分类特征上的值\n",
    "                currentNode = currentNode.childNode[val]            # 递归\n",
    "            else:\n",
    "                y_pred[i_sample] = currentNode.childNode\n",
    "        return y_pred\n",
    "    def score(self, y_true, y_pred):\n",
    "        ''' accuracy '''\n",
    "        return np.mean(np.equal(y_true, y_pred).astype('float'))"
   ]
  },
  {
   "cell_type": "markdown",
   "metadata": {},
   "source": [
    "# 定义数据集"
   ]
  },
  {
   "cell_type": "code",
   "execution_count": 5,
   "metadata": {},
   "outputs": [],
   "source": [
    "X = [\n",
    "    ['青年', '否', '否', '一般' ],\n",
    "    ['青年', '否', '否', '好'   ],\n",
    "    ['青年', '是', '否', '好'   ],\n",
    "    ['青年', '是', '是', '一般' ],\n",
    "    ['青年', '否', '否', '一般' ],\n",
    "    ['中年', '否', '否', '一般' ],\n",
    "    ['中年', '否', '否', '好'   ],\n",
    "    ['中年', '是', '是', '好'   ],\n",
    "    ['中年', '否', '是', '非常好'],\n",
    "    ['中年', '否', '是', '非常好'],\n",
    "    ['老年', '否', '是', '非常好'],\n",
    "    ['老年', '否', '是', '好'   ],\n",
    "    ['老年', '是', '否', '好'   ],\n",
    "    ['老年', '是', '否', '非常好'],\n",
    "    ['老年', '否', '否', '一般'],\n",
    "]\n",
    "y = ['否', '否', '是', '是', '否', '否', '否', '是', '是', '是', '是', '是', '是', '是', '否']\n",
    "X = np.array(X)\n",
    "y = np.array(y)"
   ]
  },
  {
   "cell_type": "markdown",
   "metadata": {},
   "source": [
    "# 对数据编码"
   ]
  },
  {
   "cell_type": "code",
   "execution_count": 6,
   "metadata": {},
   "outputs": [],
   "source": [
    "# encode the data\n",
    "for c in range(X.shape[1]):\n",
    "    for r in range(X.shape[0]):\n",
    "        X[r, c] = dict_encode[c][X[r, c]]\n",
    "X = X.astype('int') # (15, 4)\n",
    "# encode the label\n",
    "for r in range(y.shape[0]):\n",
    "    y[r] = dict_encode[4][y[r]]\n",
    "y = y.astype('int') # (15, )"
   ]
  },
  {
   "cell_type": "markdown",
   "metadata": {},
   "source": [
    "# 训练并预测"
   ]
  },
  {
   "cell_type": "markdown",
   "metadata": {},
   "source": [
    "由于版本问题会出现`FutureWarning`"
   ]
  },
  {
   "cell_type": "code",
   "execution_count": 7,
   "metadata": {},
   "outputs": [
    {
     "name": "stdout",
     "output_type": "stream",
     "text": [
      "1.0\n"
     ]
    },
    {
     "name": "stderr",
     "output_type": "stream",
     "text": [
      "c:\\myapplications\\python3\\lib\\site-packages\\sklearn\\preprocessing\\_encoders.py:363: FutureWarning: The handling of integer data will change in version 0.22. Currently, the categories are determined based on the range [0, max(values)], while in the future they will be determined based on the unique values.\n",
      "If you want the future behaviour and silence this warning, you can specify \"categories='auto'\".\n",
      "In case you used a LabelEncoder before this OneHotEncoder to convert the categories to integers, then you can now use the OneHotEncoder directly.\n",
      "  warnings.warn(msg, FutureWarning)\n",
      "c:\\myapplications\\python3\\lib\\site-packages\\sklearn\\preprocessing\\_encoders.py:363: FutureWarning: The handling of integer data will change in version 0.22. Currently, the categories are determined based on the range [0, max(values)], while in the future they will be determined based on the unique values.\n",
      "If you want the future behaviour and silence this warning, you can specify \"categories='auto'\".\n",
      "In case you used a LabelEncoder before this OneHotEncoder to convert the categories to integers, then you can now use the OneHotEncoder directly.\n",
      "  warnings.warn(msg, FutureWarning)\n",
      "c:\\myapplications\\python3\\lib\\site-packages\\sklearn\\preprocessing\\_encoders.py:363: FutureWarning: The handling of integer data will change in version 0.22. Currently, the categories are determined based on the range [0, max(values)], while in the future they will be determined based on the unique values.\n",
      "If you want the future behaviour and silence this warning, you can specify \"categories='auto'\".\n",
      "In case you used a LabelEncoder before this OneHotEncoder to convert the categories to integers, then you can now use the OneHotEncoder directly.\n",
      "  warnings.warn(msg, FutureWarning)\n",
      "c:\\myapplications\\python3\\lib\\site-packages\\sklearn\\preprocessing\\_encoders.py:363: FutureWarning: The handling of integer data will change in version 0.22. Currently, the categories are determined based on the range [0, max(values)], while in the future they will be determined based on the unique values.\n",
      "If you want the future behaviour and silence this warning, you can specify \"categories='auto'\".\n",
      "In case you used a LabelEncoder before this OneHotEncoder to convert the categories to integers, then you can now use the OneHotEncoder directly.\n",
      "  warnings.warn(msg, FutureWarning)\n",
      "c:\\myapplications\\python3\\lib\\site-packages\\sklearn\\preprocessing\\_encoders.py:363: FutureWarning: The handling of integer data will change in version 0.22. Currently, the categories are determined based on the range [0, max(values)], while in the future they will be determined based on the unique values.\n",
      "If you want the future behaviour and silence this warning, you can specify \"categories='auto'\".\n",
      "In case you used a LabelEncoder before this OneHotEncoder to convert the categories to integers, then you can now use the OneHotEncoder directly.\n",
      "  warnings.warn(msg, FutureWarning)\n",
      "c:\\myapplications\\python3\\lib\\site-packages\\sklearn\\preprocessing\\_encoders.py:363: FutureWarning: The handling of integer data will change in version 0.22. Currently, the categories are determined based on the range [0, max(values)], while in the future they will be determined based on the unique values.\n",
      "If you want the future behaviour and silence this warning, you can specify \"categories='auto'\".\n",
      "In case you used a LabelEncoder before this OneHotEncoder to convert the categories to integers, then you can now use the OneHotEncoder directly.\n",
      "  warnings.warn(msg, FutureWarning)\n",
      "c:\\myapplications\\python3\\lib\\site-packages\\sklearn\\preprocessing\\_encoders.py:363: FutureWarning: The handling of integer data will change in version 0.22. Currently, the categories are determined based on the range [0, max(values)], while in the future they will be determined based on the unique values.\n",
      "If you want the future behaviour and silence this warning, you can specify \"categories='auto'\".\n",
      "In case you used a LabelEncoder before this OneHotEncoder to convert the categories to integers, then you can now use the OneHotEncoder directly.\n",
      "  warnings.warn(msg, FutureWarning)\n",
      "c:\\myapplications\\python3\\lib\\site-packages\\sklearn\\preprocessing\\_encoders.py:363: FutureWarning: The handling of integer data will change in version 0.22. Currently, the categories are determined based on the range [0, max(values)], while in the future they will be determined based on the unique values.\n",
      "If you want the future behaviour and silence this warning, you can specify \"categories='auto'\".\n",
      "In case you used a LabelEncoder before this OneHotEncoder to convert the categories to integers, then you can now use the OneHotEncoder directly.\n",
      "  warnings.warn(msg, FutureWarning)\n",
      "c:\\myapplications\\python3\\lib\\site-packages\\sklearn\\preprocessing\\_encoders.py:363: FutureWarning: The handling of integer data will change in version 0.22. Currently, the categories are determined based on the range [0, max(values)], while in the future they will be determined based on the unique values.\n",
      "If you want the future behaviour and silence this warning, you can specify \"categories='auto'\".\n",
      "In case you used a LabelEncoder before this OneHotEncoder to convert the categories to integers, then you can now use the OneHotEncoder directly.\n",
      "  warnings.warn(msg, FutureWarning)\n"
     ]
    }
   ],
   "source": [
    "# train the estimator\n",
    "estimator = DecisionTree()\n",
    "estimator.fit(X, y)\n",
    "# predict the output of training data, calculate the accuracy score\n",
    "y_pred = estimator.predict(X)\n",
    "print(estimator.score(y, y_pred))"
   ]
  }
 ],
 "metadata": {
  "kernelspec": {
   "display_name": "Python 3",
   "language": "python",
   "name": "python3"
  },
  "language_info": {
   "codemirror_mode": {
    "name": "ipython",
    "version": 3
   },
   "file_extension": ".py",
   "mimetype": "text/x-python",
   "name": "python",
   "nbconvert_exporter": "python",
   "pygments_lexer": "ipython3",
   "version": "3.6.6"
  }
 },
 "nbformat": 4,
 "nbformat_minor": 2
}
