{
 "cells": [
  {
   "cell_type": "code",
   "execution_count": 1,
   "metadata": {},
   "outputs": [],
   "source": [
    "import os\n",
    "import cv2\n",
    "import numpy as np\n",
    "import pickle\n",
    "from scipy.io import loadmat\n",
    "import matplotlib.pyplot as plt\n",
    "from mpl_toolkits.mplot3d import Axes3D\n",
    "\n",
    "from sklearn.cluster import KMeans\n",
    "from sklearn.preprocessing import PolynomialFeatures\n",
    "from sklearn.decomposition import PCA\n",
    "from sklearn.neighbors import KDTree"
   ]
  },
  {
   "cell_type": "code",
   "execution_count": 2,
   "metadata": {},
   "outputs": [],
   "source": [
    "data_path        = './2015年全国研究生数学建模竞赛B题/数据'\n",
    "exercise1_fname  = '第1题数据/1.mat'\n",
    "exercise2a_fname = '第2题数据/2a.mat'\n",
    "exercise2b_fname = '第2题数据/2b.mat'\n",
    "exercise2c_fname = '第2题数据/2c.mat'\n",
    "exercise2d_fname = '第2题数据/2d.mat'\n",
    "exercise3a_fname = '第3题数据/3a.mat'\n",
    "exercise3b_fname = '第3题数据/3b.mat'\n",
    "exercise3c_fname = '第3题数据/3c.mat'\n",
    "exercise4a_fname = '第4题数据/4a.mat'\n",
    "exercise4b_fname = '第4题数据/4b.mat'\n",
    "\n",
    "def load_mat(filename):\n",
    "    data = loadmat(filename)['data'].T\n",
    "    return data\n",
    "def show2dfig(X, labels=None):\n",
    "    if X.shape[1] != 2: print('dimension error!'); return\n",
    "    plt.figure()\n",
    "    plt.scatter(X[:, 0], X[:, 1], c=labels)\n",
    "    plt.show()\n",
    "def show3dfig(X, labels=None):\n",
    "    if X.shape[1] != 3: print('dimension error!'); return\n",
    "    fig = plt.figure()\n",
    "    ax = fig.gca(projection='3d')\n",
    "    ax.scatter(X[:, 0], X[:, 1], X[:, 2], c=labels)\n",
    "    plt.show()\n",
    "angle = lambda x, y: np.arccos(x.dot(y) / (np.linalg.norm(x)*np.linalg.norm(y))) * 180 / np.pi"
   ]
  },
  {
   "cell_type": "code",
   "execution_count": 3,
   "metadata": {},
   "outputs": [],
   "source": [
    "X = load_mat(os.path.join(data_path, exercise4a_fname))\n",
    "# vecs = np.load(\"./data/vec.npy\")\n",
    "vecs = loadmat('./2015年全国研究生数学建模竞赛B题/Xs10.mat')['X1'].T\n",
    "pca = PCA(n_components=3)\n",
    "X = pca.fit_transform(X)"
   ]
  },
  {
   "cell_type": "code",
   "execution_count": 4,
   "metadata": {},
   "outputs": [
    {
     "name": "stderr",
     "output_type": "stream",
     "text": [
      "c:\\myapplications\\python3\\lib\\site-packages\\ipykernel_launcher.py:27: RuntimeWarning: invalid value encountered in arccos\n"
     ]
    }
   ],
   "source": [
    "n_samples = X.shape[0]\n",
    "n_features = X.shape[1]\n",
    "y = np.zeros(shape=(n_samples,))\n",
    "k = 10; d=0.15; thresh=5\n",
    "y = np.zeros(n_samples)\n",
    "Xrest = np.c_[X, np.zeros(n_samples), np.arange(n_samples)]\n",
    "nowMax = 1\n",
    "while Xrest[Xrest[:, 3]==0].shape[0] > 0:\n",
    "#     print_log = \"剩余{:.2%}未标记\".format(Xrest[Xrest[:, 3]==0].shape[0] / n_samples)\n",
    "#     print(print_log)\n",
    "    nowId = 0\n",
    "    x0 = Xrest[nowId, :3]\n",
    "    v0 = vecs[Xrest[nowId, 4].astype('int')]\n",
    "    while True:\n",
    "        # 搜索d近邻内的点\n",
    "        kdtree = KDTree(Xrest[:, :3], metric='euclidean')\n",
    "        k_ = Xrest.shape[0] if Xrest.shape[0] < k else k\n",
    "        dist, idx = kdtree.query(x0.reshape((1, -1)), k=k_)\n",
    "        dist = dist.reshape(-1); idx = idx.reshape(-1)\n",
    "        idx = idx[dist<d]\n",
    "        # 筛选角度小于阈值的点\n",
    "        for i in range(idx.shape[0]):\n",
    "            idx_ = idx[i]\n",
    "            v1 = vecs[int(Xrest[idx_, 4])]\n",
    "            ang = angle(v0, v1)\n",
    "            if (ang < thresh) or (ang > 180 - thresh):\n",
    "                y[int(Xrest[idx_, -1])] = nowMax\n",
    "        # 移除当前点\n",
    "        Xrest = np.delete(Xrest, nowId, axis=0)\n",
    "        # 搜索同类别下一个点\n",
    "        if Xrest[Xrest[:, 3]==nowMax].shape[0] > 0:\n",
    "            for i in range(Xrest.shape[0]):\n",
    "                if Xrest[i, 3] == nowMax:\n",
    "                    nowId = i\n",
    "                    x0 = Xrest[i, :3]\n",
    "                    v0 = vecs[int(Xrest[nowId, 4])]\n",
    "                    break\n",
    "        else:\n",
    "            nowMax += 1\n",
    "            break"
   ]
  },
  {
   "cell_type": "code",
   "execution_count": 5,
   "metadata": {},
   "outputs": [],
   "source": [
    "cnt = np.bincount(y.astype('int'))\n",
    "mainmark = np.argsort(cnt)[::-1][:3]"
   ]
  },
  {
   "cell_type": "code",
   "execution_count": 6,
   "metadata": {},
   "outputs": [
    {
     "data": {
      "text/plain": [
       "array([777,   4,   4,   4,   4,   4,   4,   4,   4,   3], dtype=int64)"
      ]
     },
     "execution_count": 6,
     "metadata": {},
     "output_type": "execute_result"
    }
   ],
   "source": [
    "s = np.sort(cnt)[::-1]\n",
    "s[s>0][:10]"
   ]
  },
  {
   "cell_type": "code",
   "execution_count": null,
   "metadata": {},
   "outputs": [],
   "source": []
  }
 ],
 "metadata": {
  "kernelspec": {
   "display_name": "Python 3",
   "language": "python",
   "name": "python3"
  },
  "language_info": {
   "codemirror_mode": {
    "name": "ipython",
    "version": 3
   },
   "file_extension": ".py",
   "mimetype": "text/x-python",
   "name": "python",
   "nbconvert_exporter": "python",
   "pygments_lexer": "ipython3",
   "version": "3.6.6"
  }
 },
 "nbformat": 4,
 "nbformat_minor": 2
}
